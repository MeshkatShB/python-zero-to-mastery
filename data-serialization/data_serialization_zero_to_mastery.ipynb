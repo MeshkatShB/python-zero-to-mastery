{
 "cells": [
  {
   "cell_type": "markdown",
   "source": [
    "# Data Serialization\n",
    "In this jupyter notebook, we will examine how and when to use `data serializers` so that your code have more readability and better structure."
   ],
   "metadata": {
    "collapsed": false
   }
  },
  {
   "cell_type": "markdown",
   "source": [
    "## Description\n",
    "Serialization is the process of converting a data structure or object state into a format that can be stored or transmitted and later reconstructed. Deserialization is the reverse process of converting serialized data back into its original structure."
   ],
   "metadata": {
    "collapsed": false
   }
  },
  {
   "cell_type": "markdown",
   "source": [
    "\n",
    "## Python\n",
    "Python provides several modules for serialization, each suited to different needs:\n",
    "\n",
    "- JSON (json module)\n",
    "- Pickle (pickle module)\n",
    "- YAML (PyYAML library)\n",
    "- MessagePack (msgpack library)\n",
    "- Protocol Buffers (Google's protobuf library)"
   ],
   "metadata": {
    "collapsed": false
   }
  },
  {
   "cell_type": "markdown",
   "source": [
    "### 1. JSON (json Module)\n",
    "JSON (JavaScript Object Notation) is a lightweight data interchange format. It is easy for humans to read and write, and easy for machines to parse and generate.\n",
    "\n",
    "Example:"
   ],
   "metadata": {
    "collapsed": false
   }
  },
  {
   "cell_type": "code",
   "execution_count": 2,
   "metadata": {
    "collapsed": true,
    "ExecuteTime": {
     "start_time": "2024-07-23T14:22:32.602574Z",
     "end_time": "2024-07-23T14:22:32.613603Z"
    }
   },
   "outputs": [
    {
     "name": "stdout",
     "output_type": "stream",
     "text": [
      "{\"name\": \"Alice\", \"age\": 30, \"city\": \"New York\"}\n",
      "{'name': 'Alice', 'age': 30, 'city': 'New York'}\n"
     ]
    }
   ],
   "source": [
    "import json\n",
    "\n",
    "# Serialization\n",
    "data = {'name': 'Alice', 'age': 30, 'city': 'New York'}\n",
    "json_string = json.dumps(data)\n",
    "print(json_string)  # Output: {\"name\": \"Alice\", \"age\": 30, \"city\": \"New York\"}\n",
    "\n",
    "# Deserialization\n",
    "data_from_json = json.loads(json_string)\n",
    "print(data_from_json)  # Output: {'name': 'Alice', 'age': 30, 'city': 'New York'}\n"
   ]
  },
  {
   "cell_type": "markdown",
   "source": [
    "#### Writing to and Reading from a File"
   ],
   "metadata": {
    "collapsed": false
   }
  },
  {
   "cell_type": "code",
   "execution_count": 3,
   "outputs": [
    {
     "name": "stdout",
     "output_type": "stream",
     "text": [
      "{'name': 'Alice', 'age': 30, 'city': 'New York'}\n"
     ]
    }
   ],
   "source": [
    "import json\n",
    "\n",
    "data = {'name': 'Alice', 'age': 30, 'city': 'New York'}\n",
    "\n",
    "# Writing to a file\n",
    "with open('data.json', 'w') as file:\n",
    "    json.dump(data, file)\n",
    "\n",
    "# Reading from a file\n",
    "with open('data.json', 'r') as file:\n",
    "    data_from_file = json.load(file)\n",
    "    print(data_from_file)  # Output: {'name': 'Alice', 'age': 30, 'city': 'New York'}\n"
   ],
   "metadata": {
    "collapsed": false,
    "ExecuteTime": {
     "start_time": "2024-07-23T14:22:33.834728Z",
     "end_time": "2024-07-23T14:22:33.847727Z"
    }
   }
  },
  {
   "cell_type": "markdown",
   "source": [
    "### 2. Pickle (pickle Module)\n",
    "Pickle is a Python-specific binary serialization format. It can serialize and deserialize complex Python objects, including custom classes.\n",
    "\n"
   ],
   "metadata": {
    "collapsed": false
   }
  },
  {
   "cell_type": "code",
   "execution_count": 1,
   "outputs": [
    {
     "name": "stdout",
     "output_type": "stream",
     "text": [
      "b'\\x80\\x04\\x95.\\x00\\x00\\x00\\x00\\x00\\x00\\x00}\\x94(\\x8c\\x04name\\x94\\x8c\\x05Alice\\x94\\x8c\\x03age\\x94K\\x1e\\x8c\\x04city\\x94\\x8c\\x08New York\\x94u.'\n",
      "{'name': 'Alice', 'age': 30, 'city': 'New York'}\n"
     ]
    }
   ],
   "source": [
    "import pickle\n",
    "\n",
    "data = {'name': 'Alice', 'age': 30, 'city': 'New York'}\n",
    "\n",
    "# Serialization\n",
    "pickle_string = pickle.dumps(data)\n",
    "print(pickle_string)  # Output: (binary data)\n",
    "\n",
    "# Deserialization\n",
    "data_from_pickle = pickle.loads(pickle_string)\n",
    "print(data_from_pickle)  # Output: {'name': 'Alice', 'age': 30, 'city': 'New York'}\n"
   ],
   "metadata": {
    "collapsed": false,
    "ExecuteTime": {
     "start_time": "2024-07-23T14:22:29.325587Z",
     "end_time": "2024-07-23T14:22:29.331587Z"
    }
   }
  },
  {
   "cell_type": "markdown",
   "source": [
    "#### Writing to and Reading from a File"
   ],
   "metadata": {
    "collapsed": false
   }
  },
  {
   "cell_type": "code",
   "execution_count": 5,
   "outputs": [
    {
     "name": "stdout",
     "output_type": "stream",
     "text": [
      "{'name': 'Alice', 'age': 30, 'city': 'New York'}\n"
     ]
    }
   ],
   "source": [
    "import pickle\n",
    "\n",
    "data = {'name': 'Alice', 'age': 30, 'city': 'New York'}\n",
    "\n",
    "# Writing to a file\n",
    "with open('data.pkl', 'wb') as file:\n",
    "    pickle.dump(data, file)\n",
    "\n",
    "# Reading from a file\n",
    "with open('data.pkl', 'rb') as file:\n",
    "    data_from_file = pickle.load(file)\n",
    "    print(data_from_file)  # Output: {'name': 'Alice', 'age': 30, 'city': 'New York'}\n"
   ],
   "metadata": {
    "collapsed": false,
    "ExecuteTime": {
     "start_time": "2024-07-23T14:23:18.151534Z",
     "end_time": "2024-07-23T14:23:18.164533Z"
    }
   }
  },
  {
   "cell_type": "markdown",
   "source": [
    "### 3. YAML (PyYAML Library)\n",
    "YAML (YAML Ain't Markup Language) is a human-readable data serialization format. It is often used for configuration files.\n",
    "\n"
   ],
   "metadata": {
    "collapsed": false
   }
  },
  {
   "cell_type": "code",
   "execution_count": 6,
   "outputs": [
    {
     "name": "stdout",
     "output_type": "stream",
     "text": [
      "age: 30\n",
      "city: New York\n",
      "name: Alice\n",
      "\n",
      "{'age': 30, 'city': 'New York', 'name': 'Alice'}\n"
     ]
    }
   ],
   "source": [
    "import yaml\n",
    "\n",
    "data = {'name': 'Alice', 'age': 30, 'city': 'New York'}\n",
    "\n",
    "# Serialization\n",
    "yaml_string = yaml.dump(data)\n",
    "print(yaml_string)\n",
    "\n",
    "# Deserialization\n",
    "data_from_yaml = yaml.load(yaml_string, Loader=yaml.FullLoader)\n",
    "print(data_from_yaml)\n"
   ],
   "metadata": {
    "collapsed": false,
    "ExecuteTime": {
     "start_time": "2024-07-23T14:24:00.169526Z",
     "end_time": "2024-07-23T14:24:00.222970Z"
    }
   }
  },
  {
   "cell_type": "markdown",
   "source": [
    "#### Writing to and Reading from a File\n"
   ],
   "metadata": {
    "collapsed": false
   }
  },
  {
   "cell_type": "code",
   "execution_count": 7,
   "outputs": [
    {
     "name": "stdout",
     "output_type": "stream",
     "text": [
      "{'age': 30, 'city': 'New York', 'name': 'Alice'}\n"
     ]
    }
   ],
   "source": [
    "import yaml\n",
    "\n",
    "data = {'name': 'Alice', 'age': 30, 'city': 'New York'}\n",
    "\n",
    "# Writing to a file\n",
    "with open('data.yaml', 'w') as file:\n",
    "    yaml.dump(data, file)\n",
    "\n",
    "# Reading from a file\n",
    "with open('data.yaml', 'r') as file:\n",
    "    data_from_file = yaml.load(file, Loader=yaml.FullLoader)\n",
    "    print(data_from_file)  # Output: {'name': 'Alice', 'age': 30, 'city': 'New York'}\n"
   ],
   "metadata": {
    "collapsed": false,
    "ExecuteTime": {
     "start_time": "2024-07-23T14:24:11.377861Z",
     "end_time": "2024-07-23T14:24:11.443395Z"
    }
   }
  }
 ],
 "metadata": {
  "kernelspec": {
   "display_name": "Python 3",
   "language": "python",
   "name": "python3"
  },
  "language_info": {
   "codemirror_mode": {
    "name": "ipython",
    "version": 2
   },
   "file_extension": ".py",
   "mimetype": "text/x-python",
   "name": "python",
   "nbconvert_exporter": "python",
   "pygments_lexer": "ipython2",
   "version": "2.7.6"
  }
 },
 "nbformat": 4,
 "nbformat_minor": 0
}
