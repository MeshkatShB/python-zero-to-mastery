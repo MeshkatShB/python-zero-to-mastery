{
 "cells": [
  {
   "cell_type": "markdown",
   "source": [
    "# Logging Zero To Mastery\n",
    "In this tutorial we examine the logging package, how to use it, and when to use it."
   ],
   "metadata": {
    "collapsed": false
   }
  },
  {
   "cell_type": "markdown",
   "source": [
    "# 1. Basic Logging Example\n",
    "As you can see below, there are 5 types of loggings:\n",
    "- `DEBUG (Level 10)`: Detailed information, typically of interest only when diagnosing problems.\n",
    "- `INFO (Level 20)`: Confirmation that things are working as expected.\n",
    "- `WARNING (Level 30)`: An indication that something unexpected happened or indicative of some problem in the near future.\n",
    "- `ERROR (Level 40)`: Due to a more serious problem, the software has not been able to perform some function.\n",
    "- `CRITICAL (Level 50)`: A very serious error, indicating that the program itself may be unable to continue running."
   ],
   "metadata": {
    "collapsed": false
   }
  },
  {
   "cell_type": "code",
   "execution_count": 1,
   "metadata": {
    "collapsed": true,
    "ExecuteTime": {
     "start_time": "2024-07-09T12:28:21.402959Z",
     "end_time": "2024-07-09T12:28:21.633899Z"
    }
   },
   "outputs": [
    {
     "name": "stderr",
     "output_type": "stream",
     "text": [
      "DEBUG:root:This is a debug message\n",
      "INFO:root:This is an info message\n",
      "WARNING:root:This is a warning message\n",
      "ERROR:root:This is an error message\n",
      "CRITICAL:root:This is a critical message\n"
     ]
    }
   ],
   "source": [
    "import logging\n",
    "\n",
    "logging.basicConfig(level=logging.DEBUG)\n",
    "logging.debug('This is a debug message')\n",
    "logging.info('This is an info message')\n",
    "logging.warning('This is a warning message')\n",
    "logging.error('This is an error message')\n",
    "logging.critical('This is a critical message')\n"
   ]
  },
  {
   "cell_type": "markdown",
   "source": [
    "# 2. Larger Applications\n",
    "Let's say that we have large application, and we need to config it ourselves. So, instead of using `.basicConfig`, we can create our own config in `.json` format and pass it to the logging:"
   ],
   "metadata": {
    "collapsed": false
   }
  },
  {
   "cell_type": "code",
   "execution_count": 2,
   "outputs": [
    {
     "name": "stderr",
     "output_type": "stream",
     "text": [
      "2024-07-09 12:43:17,960 - root - DEBUG - This is a debug message\n"
     ]
    }
   ],
   "source": [
    "import logging.config\n",
    "\n",
    "config = {\n",
    "    'version': 1,\n",
    "    'formatters': {\n",
    "        'simple': {\n",
    "            'format': '%(asctime)s - %(name)s - %(levelname)s - %(message)s',\n",
    "        },\n",
    "    },\n",
    "    'handlers': {\n",
    "        'console': {\n",
    "            'class': 'logging.StreamHandler',\n",
    "            'formatter': 'simple',\n",
    "            'level': 'DEBUG',\n",
    "        },\n",
    "    },\n",
    "    'root': {\n",
    "        'handlers': ['console'],\n",
    "        'level': 'DEBUG',\n",
    "    },\n",
    "}\n",
    "\n",
    "logging.config.dictConfig(config)\n",
    "logging.debug('This is a debug message')\n"
   ],
   "metadata": {
    "collapsed": false,
    "ExecuteTime": {
     "start_time": "2024-07-09T12:43:17.960145Z",
     "end_time": "2024-07-09T12:43:17.983222Z"
    }
   }
  },
  {
   "cell_type": "markdown",
   "source": [
    "# 3. Logging to a File\n",
    "The best way to keep track of your logs and changes in your application is to save your logs. With logging, you can simply save your logs in a file:"
   ],
   "metadata": {
    "collapsed": false
   }
  },
  {
   "cell_type": "code",
   "execution_count": 35,
   "outputs": [
    {
     "name": "stderr",
     "output_type": "stream",
     "text": [
      "2024-07-09 12:46:45,101 - root - WARNING - This will get logged to a file\n"
     ]
    }
   ],
   "source": [
    "logging.basicConfig(filename='./logs/app.log', filemode='w', format='%(name)s - %(levelname)s - %(message)s')\n",
    "logging.warning('This will get logged to a file')"
   ],
   "metadata": {
    "collapsed": false,
    "ExecuteTime": {
     "start_time": "2024-07-09T12:46:45.105529Z",
     "end_time": "2024-07-09T12:46:45.117527Z"
    }
   }
  },
  {
   "cell_type": "markdown",
   "source": [
    "### Note:\n",
    "If you want to append to your existing file, you can use the `filemode='a'`, so it won't overwrite your previous logs. For example:"
   ],
   "metadata": {
    "collapsed": false
   }
  },
  {
   "cell_type": "code",
   "execution_count": 38,
   "outputs": [
    {
     "name": "stderr",
     "output_type": "stream",
     "text": [
      "2024-07-09 12:50:33,752 - root - WARNING - This will get logged to a file\n"
     ]
    }
   ],
   "source": [
    "logging.basicConfig(filename='app.log', filemode='a', format='%(name)s - %(levelname)s - %(message)s')\n",
    "logging.warning('This will get logged to a file')"
   ],
   "metadata": {
    "collapsed": false,
    "ExecuteTime": {
     "start_time": "2024-07-09T12:50:33.756559Z",
     "end_time": "2024-07-09T12:50:33.778093Z"
    }
   }
  },
  {
   "cell_type": "markdown",
   "source": [
    "### Note 2:\n",
    "And if you want to save the timestamps in your format, you can add `%(asctime)s` to your format:"
   ],
   "metadata": {
    "collapsed": false
   }
  },
  {
   "cell_type": "code",
   "execution_count": 40,
   "outputs": [
    {
     "name": "stderr",
     "output_type": "stream",
     "text": [
      "2024-07-09 12:53:46,131 - root - WARNING - This will get logged to a file\n"
     ]
    }
   ],
   "source": [
    "logging.basicConfig(filename='app.log', filemode='a', format='%(asctime)s - %(name)s - %(levelname)s - %(message)s')\n",
    "logging.warning('This will get logged to a file')"
   ],
   "metadata": {
    "collapsed": false,
    "ExecuteTime": {
     "start_time": "2024-07-09T12:53:46.133091Z",
     "end_time": "2024-07-09T12:53:46.189929Z"
    }
   }
  },
  {
   "cell_type": "markdown",
   "source": [
    "### Note 3:\n",
    "The `filename=` can't make directories for you, so you should create the directories first, and then it will create the file for you when you set the `filemode='w'` or it will append to your existing file with `filemode='a'`."
   ],
   "metadata": {
    "collapsed": false
   }
  },
  {
   "cell_type": "markdown",
   "source": [
    "# 4. Logger Object\n",
    "When your application is vast and very large, you may need different workers or logger objects for your application in order to keep track of what's happening in your application since the different places for logs should do different kinds of tasks. So, for more understanding, I will provide you with some examples:"
   ],
   "metadata": {
    "collapsed": false
   }
  },
  {
   "cell_type": "code",
   "execution_count": 54,
   "outputs": [
    {
     "name": "stderr",
     "output_type": "stream",
     "text": [
      "2024-07-09 13:01:38,298 - my_logger - DEBUG - This is a debug message\n",
      "2024-07-09 13:01:38,298 - my_logger - DEBUG - This is a debug message\n",
      "2024-07-09 13:01:38,298 - my_logger - DEBUG - This is a debug message\n",
      "2024-07-09 13:01:38,298 - my_logger - DEBUG - This is a debug message\n",
      "2024-07-09 13:01:38,298 - my_logger - DEBUG - This is a debug message\n",
      "2024-07-09 13:01:38,298 - my_logger - DEBUG - This is a debug message\n",
      "2024-07-09 13:01:38,298 - my_logger - DEBUG - This is a debug message\n",
      "2024-07-09 13:01:38,298 - my_logger - DEBUG - This is a debug message\n",
      "2024-07-09 13:01:38,298 - my_logger - DEBUG - This is a debug message\n",
      "2024-07-09 13:01:38,298 - my_logger - DEBUG - This is a debug message\n",
      "2024-07-09 13:01:38,298 - my_logger - DEBUG - This is a debug message\n",
      "2024-07-09 13:01:38,298 - my_logger - DEBUG - This is a debug message\n",
      "2024-07-09 13:01:38,298 - my_logger - DEBUG - This is a debug message\n",
      "2024-07-09 13:01:38,298 - my_logger - DEBUG - This is a debug message\n",
      "2024-07-09 13:01:38,298 - my_logger - DEBUG - This is a debug message\n",
      "2024-07-09 13:01:38,321 - my_logger - WARNING - This is a warning message\n",
      "2024-07-09 13:01:38,321 - my_logger - WARNING - This is a warning message\n",
      "2024-07-09 13:01:38,321 - my_logger - WARNING - This is a warning message\n",
      "2024-07-09 13:01:38,321 - my_logger - WARNING - This is a warning message\n",
      "2024-07-09 13:01:38,321 - my_logger - WARNING - This is a warning message\n",
      "2024-07-09 13:01:38,321 - my_logger - WARNING - This is a warning message\n",
      "2024-07-09 13:01:38,321 - my_logger - WARNING - This is a warning message\n",
      "2024-07-09 13:01:38,321 - my_logger - WARNING - This is a warning message\n",
      "2024-07-09 13:01:38,321 - my_logger - WARNING - This is a warning message\n",
      "2024-07-09 13:01:38,321 - my_logger - WARNING - This is a warning message\n",
      "2024-07-09 13:01:38,321 - my_logger - WARNING - This is a warning message\n",
      "2024-07-09 13:01:38,321 - my_logger - WARNING - This is a warning message\n",
      "2024-07-09 13:01:38,321 - my_logger - WARNING - This is a warning message\n",
      "2024-07-09 13:01:38,321 - my_logger - WARNING - This is a warning message\n",
      "2024-07-09 13:01:38,321 - my_logger - WARNING - This is a warning message\n",
      "2024-07-09 13:01:38,345 - my_logger2 - WARNING - This is a warning message by logger 2\n"
     ]
    }
   ],
   "source": [
    "logger = logging.getLogger('my_logger')\n",
    "logger2 = logging.getLogger('my_logger2')\n",
    "\n",
    "logger.setLevel(logging.DEBUG)\n",
    "logger2.setLevel(logging.WARNING)\n",
    "\n",
    "ch = logging.StreamHandler()\n",
    "ch.setLevel(logging.DEBUG)\n",
    "\n",
    "formatter = logging.Formatter('%(asctime)s - %(name)s - %(levelname)s - %(message)s')\n",
    "ch.setFormatter(formatter)\n",
    "\n",
    "logger.addHandler(ch)\n",
    "logger.debug('This is a debug message')\n",
    "logger.warning('This is a warning message')\n",
    "\n",
    "logger2.debug('This is a debug message by logger 2')\n",
    "logger2.warning('This is a warning message by logger 2')"
   ],
   "metadata": {
    "collapsed": false,
    "ExecuteTime": {
     "start_time": "2024-07-09T13:01:38.302948Z",
     "end_time": "2024-07-09T13:01:38.401363Z"
    }
   }
  },
  {
   "cell_type": "markdown",
   "source": [
    "### Note:\n",
    "As you can see, I set the `logger2` level to warning. Although I called the `logger2.debug`, but in the output we can't see the `my_logger2` object having any `DEBUG` message. This is only because of the priority of levels. In the [basic examples](#1-basic-logging-example), you can see the priority and levels of logs. Level 50 being higher priority and level 10 being the lowest priority. When using the higher priority, it will ignore the lower priority and won't show the logs below that level. So, keep that in mind."
   ],
   "metadata": {
    "collapsed": false
   }
  },
  {
   "cell_type": "markdown",
   "source": [
    "# 5. Rotating Log Files\n",
    "As you notice, while appending to your previous file, your log file can get larger and larger by time (even in TeraBytes), so to prevent storage problems, we can limit the log file. With `RotatingFileHandler` we can set maximum bytes in each file by setting the `maxBytes` and set how many back files it should store in `backupCount` attribute:"
   ],
   "metadata": {
    "collapsed": false
   }
  },
  {
   "cell_type": "code",
   "execution_count": 56,
   "outputs": [
    {
     "name": "stderr",
     "output_type": "stream",
     "text": [
      "2024-07-09 13:17:50,621 - my_logger - DEBUG - This is a sample debug message\n",
      "2024-07-09 13:17:50,621 - my_logger - DEBUG - This is a sample debug message\n",
      "2024-07-09 13:17:50,621 - my_logger - DEBUG - This is a sample debug message\n",
      "2024-07-09 13:17:50,621 - my_logger - DEBUG - This is a sample debug message\n",
      "2024-07-09 13:17:50,621 - my_logger - DEBUG - This is a sample debug message\n",
      "2024-07-09 13:17:50,621 - my_logger - DEBUG - This is a sample debug message\n",
      "2024-07-09 13:17:50,621 - my_logger - DEBUG - This is a sample debug message\n",
      "2024-07-09 13:17:50,621 - my_logger - DEBUG - This is a sample debug message\n",
      "2024-07-09 13:17:50,621 - my_logger - DEBUG - This is a sample debug message\n",
      "2024-07-09 13:17:50,621 - my_logger - DEBUG - This is a sample debug message\n",
      "2024-07-09 13:17:50,621 - my_logger - DEBUG - This is a sample debug message\n",
      "2024-07-09 13:17:50,621 - my_logger - DEBUG - This is a sample debug message\n",
      "2024-07-09 13:17:50,621 - my_logger - DEBUG - This is a sample debug message\n",
      "2024-07-09 13:17:50,621 - my_logger - DEBUG - This is a sample debug message\n",
      "2024-07-09 13:17:50,621 - my_logger - DEBUG - This is a sample debug message\n"
     ]
    }
   ],
   "source": [
    "from logging.handlers import RotatingFileHandler\n",
    "\n",
    "handler = RotatingFileHandler('app.log', maxBytes=2000, backupCount=5)\n",
    "logger.addHandler(handler)\n",
    "\n",
    "logger.debug('This is a sample debug message')\n"
   ],
   "metadata": {
    "collapsed": false,
    "ExecuteTime": {
     "start_time": "2024-07-09T13:17:50.622005Z",
     "end_time": "2024-07-09T13:17:50.639652Z"
    }
   }
  },
  {
   "cell_type": "markdown",
   "source": [
    "# 6. Logging Exceptions\n",
    "One of the most useful things in python is to catch any exception when it occurs so that your application/program won't crash. In order to do so, you just use try-catch phrase as you may know. In this part, I show you that instead of simply printing the exception message or error, you can use logging to demonstrate the exception that occurred with `logger.exception`."
   ],
   "metadata": {
    "collapsed": false
   }
  },
  {
   "cell_type": "code",
   "execution_count": 57,
   "outputs": [
    {
     "name": "stderr",
     "output_type": "stream",
     "text": [
      "2024-07-09 16:23:28,705 - my_logger - ERROR - Exception occurred\n",
      "Traceback (most recent call last):\n",
      "  File \"C:\\Users\\Asus\\AppData\\Local\\Temp\\ipykernel_14540\\1521490165.py\", line 2, in <module>\n",
      "    1 / 0\n",
      "ZeroDivisionError: division by zero\n",
      "2024-07-09 16:23:28,705 - my_logger - ERROR - Exception occurred\n",
      "Traceback (most recent call last):\n",
      "  File \"C:\\Users\\Asus\\AppData\\Local\\Temp\\ipykernel_14540\\1521490165.py\", line 2, in <module>\n",
      "    1 / 0\n",
      "ZeroDivisionError: division by zero\n",
      "2024-07-09 16:23:28,705 - my_logger - ERROR - Exception occurred\n",
      "Traceback (most recent call last):\n",
      "  File \"C:\\Users\\Asus\\AppData\\Local\\Temp\\ipykernel_14540\\1521490165.py\", line 2, in <module>\n",
      "    1 / 0\n",
      "ZeroDivisionError: division by zero\n",
      "2024-07-09 16:23:28,705 - my_logger - ERROR - Exception occurred\n",
      "Traceback (most recent call last):\n",
      "  File \"C:\\Users\\Asus\\AppData\\Local\\Temp\\ipykernel_14540\\1521490165.py\", line 2, in <module>\n",
      "    1 / 0\n",
      "ZeroDivisionError: division by zero\n",
      "2024-07-09 16:23:28,705 - my_logger - ERROR - Exception occurred\n",
      "Traceback (most recent call last):\n",
      "  File \"C:\\Users\\Asus\\AppData\\Local\\Temp\\ipykernel_14540\\1521490165.py\", line 2, in <module>\n",
      "    1 / 0\n",
      "ZeroDivisionError: division by zero\n",
      "2024-07-09 16:23:28,705 - my_logger - ERROR - Exception occurred\n",
      "Traceback (most recent call last):\n",
      "  File \"C:\\Users\\Asus\\AppData\\Local\\Temp\\ipykernel_14540\\1521490165.py\", line 2, in <module>\n",
      "    1 / 0\n",
      "ZeroDivisionError: division by zero\n",
      "2024-07-09 16:23:28,705 - my_logger - ERROR - Exception occurred\n",
      "Traceback (most recent call last):\n",
      "  File \"C:\\Users\\Asus\\AppData\\Local\\Temp\\ipykernel_14540\\1521490165.py\", line 2, in <module>\n",
      "    1 / 0\n",
      "ZeroDivisionError: division by zero\n",
      "2024-07-09 16:23:28,705 - my_logger - ERROR - Exception occurred\n",
      "Traceback (most recent call last):\n",
      "  File \"C:\\Users\\Asus\\AppData\\Local\\Temp\\ipykernel_14540\\1521490165.py\", line 2, in <module>\n",
      "    1 / 0\n",
      "ZeroDivisionError: division by zero\n",
      "2024-07-09 16:23:28,705 - my_logger - ERROR - Exception occurred\n",
      "Traceback (most recent call last):\n",
      "  File \"C:\\Users\\Asus\\AppData\\Local\\Temp\\ipykernel_14540\\1521490165.py\", line 2, in <module>\n",
      "    1 / 0\n",
      "ZeroDivisionError: division by zero\n",
      "2024-07-09 16:23:28,705 - my_logger - ERROR - Exception occurred\n",
      "Traceback (most recent call last):\n",
      "  File \"C:\\Users\\Asus\\AppData\\Local\\Temp\\ipykernel_14540\\1521490165.py\", line 2, in <module>\n",
      "    1 / 0\n",
      "ZeroDivisionError: division by zero\n",
      "2024-07-09 16:23:28,705 - my_logger - ERROR - Exception occurred\n",
      "Traceback (most recent call last):\n",
      "  File \"C:\\Users\\Asus\\AppData\\Local\\Temp\\ipykernel_14540\\1521490165.py\", line 2, in <module>\n",
      "    1 / 0\n",
      "ZeroDivisionError: division by zero\n",
      "2024-07-09 16:23:28,705 - my_logger - ERROR - Exception occurred\n",
      "Traceback (most recent call last):\n",
      "  File \"C:\\Users\\Asus\\AppData\\Local\\Temp\\ipykernel_14540\\1521490165.py\", line 2, in <module>\n",
      "    1 / 0\n",
      "ZeroDivisionError: division by zero\n",
      "2024-07-09 16:23:28,705 - my_logger - ERROR - Exception occurred\n",
      "Traceback (most recent call last):\n",
      "  File \"C:\\Users\\Asus\\AppData\\Local\\Temp\\ipykernel_14540\\1521490165.py\", line 2, in <module>\n",
      "    1 / 0\n",
      "ZeroDivisionError: division by zero\n",
      "2024-07-09 16:23:28,705 - my_logger - ERROR - Exception occurred\n",
      "Traceback (most recent call last):\n",
      "  File \"C:\\Users\\Asus\\AppData\\Local\\Temp\\ipykernel_14540\\1521490165.py\", line 2, in <module>\n",
      "    1 / 0\n",
      "ZeroDivisionError: division by zero\n",
      "2024-07-09 16:23:28,705 - my_logger - ERROR - Exception occurred\n",
      "Traceback (most recent call last):\n",
      "  File \"C:\\Users\\Asus\\AppData\\Local\\Temp\\ipykernel_14540\\1521490165.py\", line 2, in <module>\n",
      "    1 / 0\n",
      "ZeroDivisionError: division by zero\n"
     ]
    }
   ],
   "source": [
    "try:\n",
    "    1 / 0\n",
    "except ZeroDivisionError:\n",
    "    logger.exception(\"Exception occurred\")"
   ],
   "metadata": {
    "collapsed": false,
    "ExecuteTime": {
     "start_time": "2024-07-09T16:23:28.707699Z",
     "end_time": "2024-07-09T16:23:28.841010Z"
    }
   }
  },
  {
   "cell_type": "markdown",
   "source": [
    "# 7. Custom Level Logging\n",
    "As I previously discussed in [this note](#note) and in [introduction](#1-basic-logging-example), we have different levels of logging:\n",
    "- `DEBUG` = LEVEL 10\n",
    "- `INFO` = LEVEL 20\n",
    "- `WARNING` = LEVEL 30\n",
    "- `ERROR` = LEVEL 40\n",
    "- `CRITICAL` = LEVEL 50\n",
    "\n",
    "You can define your own level of priority and add your custom label to the logging. To do so, you can simply do as below:"
   ],
   "metadata": {
    "collapsed": false
   }
  },
  {
   "cell_type": "code",
   "execution_count": 58,
   "outputs": [
    {
     "name": "stderr",
     "output_type": "stream",
     "text": [
      "2024-07-09 16:30:19,709 - my_logger - CUSTOM - This is a custom log message\n",
      "2024-07-09 16:30:19,709 - my_logger - CUSTOM - This is a custom log message\n",
      "2024-07-09 16:30:19,709 - my_logger - CUSTOM - This is a custom log message\n",
      "2024-07-09 16:30:19,709 - my_logger - CUSTOM - This is a custom log message\n",
      "2024-07-09 16:30:19,709 - my_logger - CUSTOM - This is a custom log message\n",
      "2024-07-09 16:30:19,709 - my_logger - CUSTOM - This is a custom log message\n",
      "2024-07-09 16:30:19,709 - my_logger - CUSTOM - This is a custom log message\n",
      "2024-07-09 16:30:19,709 - my_logger - CUSTOM - This is a custom log message\n",
      "2024-07-09 16:30:19,709 - my_logger - CUSTOM - This is a custom log message\n",
      "2024-07-09 16:30:19,709 - my_logger - CUSTOM - This is a custom log message\n",
      "2024-07-09 16:30:19,709 - my_logger - CUSTOM - This is a custom log message\n",
      "2024-07-09 16:30:19,709 - my_logger - CUSTOM - This is a custom log message\n",
      "2024-07-09 16:30:19,709 - my_logger - CUSTOM - This is a custom log message\n",
      "2024-07-09 16:30:19,709 - my_logger - CUSTOM - This is a custom log message\n",
      "2024-07-09 16:30:19,709 - my_logger - CUSTOM - This is a custom log message\n"
     ]
    }
   ],
   "source": [
    "CUSTOM_LEVEL = 25\n",
    "logging.addLevelName(CUSTOM_LEVEL, 'CUSTOM')\n",
    "\n",
    "def custom(self, message, *args, **kwargs):\n",
    "    if self.isEnabledFor(CUSTOM_LEVEL):\n",
    "        self._log(CUSTOM_LEVEL, message, args, **kwargs)\n",
    "\n",
    "logging.Logger.custom = custom\n",
    "logger.custom('This is a custom log message')\n"
   ],
   "metadata": {
    "collapsed": false,
    "ExecuteTime": {
     "start_time": "2024-07-09T16:30:19.710735Z",
     "end_time": "2024-07-09T16:30:19.847947Z"
    }
   }
  }
 ],
 "metadata": {
  "kernelspec": {
   "display_name": "Python 3",
   "language": "python",
   "name": "python3"
  },
  "language_info": {
   "codemirror_mode": {
    "name": "ipython",
    "version": 2
   },
   "file_extension": ".py",
   "mimetype": "text/x-python",
   "name": "python",
   "nbconvert_exporter": "python",
   "pygments_lexer": "ipython2",
   "version": "2.7.6"
  }
 },
 "nbformat": 4,
 "nbformat_minor": 0
}
