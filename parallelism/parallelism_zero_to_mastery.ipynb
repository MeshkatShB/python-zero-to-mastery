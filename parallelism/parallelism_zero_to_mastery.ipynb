{
 "cells": [
  {
   "cell_type": "markdown",
   "source": [
    "# Parallelism & Concurrency\n",
    "In this notebook, we will examine how we can use parallelism in our advantage and run our codes faster.\n",
    "To better understand parallelism, I will cover the below topics:\n",
    "- Understanding Concurrency and Parallelism\n",
    "- Asyncio for Concurrency\n",
    "- Threading for Concurrency\n",
    "- Multiprocessing for Parallelism\n",
    "- Practical Examples"
   ],
   "metadata": {
    "collapsed": false
   }
  },
  {
   "cell_type": "markdown",
   "source": [
    "## 1. Understanding Concurrency and Parallelism\n",
    "At first, we should learn the difference between these terms: `concurrency` and `parallelism`:\n",
    "- `Concurrency`: Concurrency is about dealing with multiple tasks at once but not necessarily doing them simultaneously. It gives the `illusion of parallelism` by switching between tasks efficiently.\n",
    "\n",
    "- `Parallelism`: Parallelism is executing multiple tasks simultaneously, leveraging multicore processors to perform computation-heavy tasks in `parallel`.\n",
    "\n",
    "### Note\n",
    "We will use `Asyncio` for concurrency and `Threading` for parallelism:\n",
    "\n",
    "\n",
    "| ----- | ---- |\n",
    "| concurrency    | asyncio   |\n",
    "| parallelism  | threading/multiprocessing   |"
   ],
   "metadata": {
    "collapsed": false
   }
  },
  {
   "cell_type": "markdown",
   "source": [
    "## 2. Asyncio for Concurrency\n",
    "`Asyncio` is a library for asynchronous programming in Python, allowing you to write concurrent code using the `async/await` syntax. It may sound confusing, but I will teach you in one go, so you understand."
   ],
   "metadata": {
    "collapsed": false
   }
  },
  {
   "cell_type": "markdown",
   "source": [
    "### 2.1. Details\n",
    "There are only two words that matter: `async` and `await`.\n",
    "\n",
    "The `async` parameter shows that your function wants to use `concurrency`. So, you just put the `async` phrase before your definition of your function just like the top example. This `async` thing, shows that it should run in concurrent mode, so any running, should have something to gather data and results.\n",
    "\n",
    "Now for the result, the `await` comes into account. The `await` phrase, demonstrate that we should wait for the result of the answer/result of what is written after the await call:\n",
    "```python\n",
    "await asyncio.sleep(delay)\n",
    "```\n",
    "So, in this example, we should `await` for the answer of `asyncio.sleep(delay)`.\n",
    "\n",
    "#### Example\n",
    "You can find basic example in `./example/concurrency/basics.py` file and an advance example in `./example/concurrency/advance.py` and their outputs respectively in `./example/concurrency/output_basic.png` and `./example/concurrency/output_advance.png`.\n"
   ],
   "metadata": {
    "collapsed": false
   }
  },
  {
   "cell_type": "markdown",
   "source": [
    "### 2.2. Asyncio Queue\n",
    "As you may have guessed, when we have some tasks/jobs, we need a queue and a distributer to make the decision what should be run now and what is the next job/task. In order to do so, we use `asyncio.run()` function to state that we want these functions to be run.\n",
    "\n",
    "`asyncio.Queue()`: An asynchronous `FIFO queue` used to exchange data between coroutines.\n",
    "\n",
    "#### Example\n",
    "```python\n",
    "import asyncio\n",
    "\n",
    "async def producer(queue):\n",
    "    for i in range(5):\n",
    "        await asyncio.sleep(1)\n",
    "        await queue.put(i)\n",
    "        print(f\"Produced {i}\")\n",
    "\n",
    "async def consumer(queue):\n",
    "    while True:\n",
    "        item = await queue.get()\n",
    "        print(f\"Consumed {item}\")\n",
    "        queue.task_done()\n",
    "\n",
    "async def main():\n",
    "    queue = asyncio.Queue()\n",
    "    await asyncio.gather(producer(queue), consumer(queue))\n",
    "\n",
    "asyncio.run(main())\n",
    "```\n"
   ],
   "metadata": {
    "collapsed": false
   }
  },
  {
   "cell_type": "markdown",
   "source": [
    "### 2.3. asyncio.run()\n",
    "`asyncio.run()` is a high-level function used to run an asynchronous function (coroutine) from a synchronous context. It sets up the event loop, runs the coroutine, and handles shutting down the event loop when the coroutine completes.\n",
    "\n",
    "#### Example\n",
    "```python\n",
    "import asyncio\n",
    "\n",
    "async def main():\n",
    "    print(\"Hello, World!\")\n",
    "\n",
    "# Running the main coroutine\n",
    "asyncio.run(main())\n",
    "```"
   ],
   "metadata": {
    "collapsed": false
   }
  },
  {
   "cell_type": "markdown",
   "source": [
    "### 2.4. asyncio.gather()\n",
    "`asyncio.gather()` is used to run multiple coroutines concurrently and aggregate their results. It takes multiple coroutine objects and returns a single coroutine that gathers the results of those coroutines into a list.\n",
    "\n",
    "#### Example\n",
    "```python\n",
    "import asyncio\n",
    "\n",
    "async def say_after(delay, message):\n",
    "    await asyncio.sleep(delay)\n",
    "    return message\n",
    "\n",
    "async def main():\n",
    "    result = await asyncio.gather(\n",
    "        say_after(1, 'Hello'),\n",
    "        say_after(2, 'World')\n",
    "    )\n",
    "    print(result)  # Output: ['Hello', 'World']\n",
    "\n",
    "asyncio.run(main())\n",
    "```"
   ],
   "metadata": {
    "collapsed": false
   }
  },
  {
   "cell_type": "markdown",
   "source": [
    "### 2.5. asyncio.create_task()\n",
    "Schedules the execution of a coroutine object in the event loop. Returns an asyncio.Task object.\n",
    "\n",
    "#### Example\n",
    "```python\n",
    "import asyncio\n",
    "\n",
    "async def say_hello():\n",
    "    await asyncio.sleep(1)\n",
    "    print(\"Hello\")\n",
    "\n",
    "async def main():\n",
    "    task = asyncio.create_task(say_hello())\n",
    "    await task\n",
    "\n",
    "asyncio.run(main())\n",
    "```"
   ],
   "metadata": {
    "collapsed": false
   }
  },
  {
   "cell_type": "markdown",
   "source": [
    "### 2.6. asyncio.sleep()\n",
    "Asynchronously sleeps for a specified number of seconds, allowing other tasks to run during this period.\n",
    "\n",
    "#### Example\n",
    "```python\n",
    "import asyncio\n",
    "\n",
    "async def main():\n",
    "    print(\"Sleeping...\")\n",
    "    await asyncio.sleep(2)\n",
    "    print(\"Awake!\")\n",
    "\n",
    "asyncio.run(main())\n",
    "```"
   ],
   "metadata": {
    "collapsed": false
   }
  },
  {
   "cell_type": "markdown",
   "source": [
    "### 2.7. asyncio.wait()\n",
    "Waits for the completion of multiple `Future` or `Task` objects. Can be configured to return when any or all of the objects are done.\n",
    "\n",
    "\n",
    "#### Example\n",
    "```python\n",
    "import asyncio\n",
    "\n",
    "async def say_hello():\n",
    "    await asyncio.sleep(1)\n",
    "    return \"Hello\"\n",
    "\n",
    "async def say_world():\n",
    "    await asyncio.sleep(2)\n",
    "    return \"World\"\n",
    "\n",
    "async def main():\n",
    "    tasks = [say_hello(), say_world()]\n",
    "    done, pending = await asyncio.wait(tasks)\n",
    "    for task in done:\n",
    "        print(task.result())\n",
    "\n",
    "asyncio.run(main())\n",
    "```"
   ],
   "metadata": {
    "collapsed": false
   }
  },
  {
   "cell_type": "markdown",
   "source": [
    "### 2.8. asyncio.as_completed()\n",
    "Returns an iterator of `Future` objects that yield results as they complete.\n",
    "\n",
    "#### Example\n",
    "```python\n",
    "import asyncio\n",
    "\n",
    "async def say_hello():\n",
    "    await asyncio.sleep(1)\n",
    "    return \"Hello\"\n",
    "\n",
    "async def say_world():\n",
    "    await asyncio.sleep(2)\n",
    "    return \"World\"\n",
    "\n",
    "async def main():\n",
    "    tasks = [say_hello(), say_world()]\n",
    "    for task in asyncio.as_completed(tasks):\n",
    "        result = await task\n",
    "        print(result)\n",
    "\n",
    "asyncio.run(main())\n",
    "```"
   ],
   "metadata": {
    "collapsed": false
   }
  },
  {
   "cell_type": "markdown",
   "source": [
    "### 2.9. asyncio.shield()\n",
    "\n",
    "Protects a coroutine from being cancelled.\n",
    "\n",
    "#### Example\n",
    "```python\n",
    "import asyncio\n",
    "\n",
    "async def protected_task():\n",
    "    await asyncio.sleep(3)\n",
    "    return \"Completed\"\n",
    "\n",
    "async def main():\n",
    "    task = asyncio.create_task(asyncio.shield(protected_task()))\n",
    "    await asyncio.sleep(1)\n",
    "    task.cancel()\n",
    "    try:\n",
    "        await task\n",
    "    except asyncio.CancelledError:\n",
    "        print(\"Task was not cancelled\")\n",
    "\n",
    "asyncio.run(main())\n",
    "```"
   ],
   "metadata": {
    "collapsed": false
   }
  },
  {
   "cell_type": "markdown",
   "source": [
    "### 2.10. asyncio.Event\n",
    "A synchronization primitive that allows one or more coroutines to wait until an event is set.\n",
    "\n",
    "#### Example\n",
    "```python\n",
    "import asyncio\n",
    "\n",
    "async def waiter(event):\n",
    "    print(\"Waiting for event to be set\")\n",
    "    await event.wait()\n",
    "    print(\"Event is set\")\n",
    "\n",
    "async def main():\n",
    "    event = asyncio.Event()\n",
    "    asyncio.create_task(waiter(event))\n",
    "    await asyncio.sleep(2)\n",
    "    event.set()\n",
    "\n",
    "asyncio.run(main())\n",
    "```"
   ],
   "metadata": {
    "collapsed": false
   }
  },
  {
   "cell_type": "markdown",
   "source": [
    "## 3. Threading for Concurrency\n",
    "Threading is a way to achieve concurrency by running multiple threads within the same process. It is suitable for I/O-bound tasks but not ideal for CPU-bound tasks due to the Global Interpreter Lock (GIL).\n",
    "### Example\n",
    "You can find examples for this part in `./example/threading/` directory with output."
   ],
   "metadata": {
    "collapsed": false
   }
  },
  {
   "cell_type": "markdown",
   "source": [
    "## 4. Multiprocessing for Parallelism\n",
    "Multiprocessing involves running multiple processes, each with its own Python interpreter and memory space, thus bypassing the GIL. It is ideal for CPU-bound tasks.\n",
    "### Example\n",
    "You can find examples for this part in `./example/multiprocessing/` directory and their outputs with the format of `output_<name_of_file>.png`"
   ],
   "metadata": {
    "collapsed": false
   }
  },
  {
   "cell_type": "markdown",
   "source": [
    "## 5. Threading vs. Multiprocessing\n",
    "You should know the difference between threading and multiprocessing, but if you don't know yet, I will tell you clearly here. Threading and multiprocessing are two approaches to achieving concurrency and parallelism respectively in Python. They each have distinct characteristics and use cases.\n",
    "\n",
    "### Threading\n",
    "Threading uses multiple threads within the same process to perform tasks concurrently. Threads share the same memory space, which allows for efficient communication between them. However, Python's Global Interpreter Lock (GIL) can be a limitation for CPU-bound tasks.\n",
    "\n",
    "- Shared Memory\n",
    "- Global Interpreter Lock (GIL)\n",
    "- Lightweight\n",
    "- Synchronization Primitives: Python provides synchronization primitives like `threading.Lock`, `threading.Event`, and `threading.Condition` to manage thread interactions.\n",
    "\n",
    "\n",
    "### Multiprocessing\n",
    "Multiprocessing uses multiple processes, each with its own memory space. This allows for true parallelism, especially for CPU-bound tasks, as each process runs independently.\n",
    "\n",
    "- Separate Memory Space\n",
    "- True Parallelism\n",
    "- Higher Resource Usage\n",
    "- Process-Based Synchronization Primitives: Python provides synchronization primitives for processes like `multiprocessing.Lock`, `multiprocessing.Queue`, and `multiprocessing.Event`.\n",
    "\n",
    "\n",
    "### In summary:\n",
    "\n",
    "<table style=\"width:100%; border: 1px solid black; border-collapse: collapse;\">\n",
    "  <thead>\n",
    "    <tr style=\"border: 1px solid black;\">\n",
    "      <th style=\"border: 1px solid black; padding: 8px; text-align: center;\">Feature</th>\n",
    "      <th style=\"border: 1px solid black; padding: 8px; text-align: center;\">Threading</th>\n",
    "      <th style=\"border: 1px solid black; padding: 8px; text-align: center;\">Multiprocessing</th>\n",
    "    </tr>\n",
    "  </thead>\n",
    "  <tbody>\n",
    "    <tr style=\"border: 1px solid black;\">\n",
    "      <td style=\"border: 1px solid black; padding: 8px; text-align: center;\">Memory Sharing</td>\n",
    "      <td style=\"border: 1px solid black; padding: 8px; text-align: center;\">Shared memory space</td>\n",
    "      <td style=\"border: 1px solid black; padding: 8px; text-align: center;\">Separate memory space</td>\n",
    "    </tr>\n",
    "    <tr style=\"border: 1px solid black;\">\n",
    "      <td style=\"border: 1px solid black; padding: 8px; text-align: center;\">Ideal Use Case</td>\n",
    "      <td style=\"border: 1px solid black; padding: 8px; text-align: center;\">I/O-bound tasks</td>\n",
    "      <td style=\"border: 1px solid black; padding: 8px; text-align: center;\">CPU-bound tasks</td>\n",
    "    </tr>\n",
    "    <tr style=\"border: 1px solid black;\">\n",
    "      <td style=\"border: 1px solid black; padding: 8px; text-align: center;\">GIL Impact</td>\n",
    "      <td style=\"border: 1px solid black; padding: 8px; text-align: center;\">Affected by GIL (no true parallelism)</td>\n",
    "      <td style=\"border: 1px solid black; padding: 8px; text-align: center;\">Not affected by GIL (true parallelism)</td>\n",
    "    </tr>\n",
    "    <tr style=\"border: 1px solid black;\">\n",
    "      <td style=\"border: 1px solid black; padding: 8px; text-align: center;\">Resource Consumption</td>\n",
    "      <td style=\"border: 1px solid black; padding: 8px; text-align: center;\">Lightweight</td>\n",
    "      <td style=\"border: 1px solid black; padding: 8px; text-align: center;\">Resource-intensive</td>\n",
    "    </tr>\n",
    "    <tr style=\"border: 1px solid black;\">\n",
    "      <td style=\"border: 1px solid black; padding: 8px; text-align: center;\">Communication</td>\n",
    "      <td style=\"border: 1px solid black; padding: 8px; text-align: center;\">Simple due to shared memory</td>\n",
    "      <td style=\"border: 1px solid black; padding: 8px; text-align: center;\">Requires IPC (e.g., pipes, queues)</td>\n",
    "    </tr>\n",
    "    <tr style=\"border: 1px solid black;\">\n",
    "      <td style=\"border: 1px solid black; padding: 8px; text-align: center;\">Speed of Creation</td>\n",
    "      <td style=\"border: 1px solid black; padding: 8px; text-align: center;\">Faster</td>\n",
    "      <td style=\"border: 1px solid black; padding: 8px; text-align: center;\">Slower</td>\n",
    "    </tr>\n",
    "    <tr style=\"border: 1px solid black;\">\n",
    "      <td style=\"border: 1px solid black; padding: 8px; text-align: center;\">Synchronization Primitives</td>\n",
    "      <td style=\"border: 1px solid black; padding: 8px; text-align: center;\">`threading.Lock`, `threading.Event`, etc.</td>\n",
    "      <td style=\"border: 1px solid black; padding: 8px; text-align: center;\">`multiprocessing.Lock`, `multiprocessing.Queue`, etc.</td>\n",
    "    </tr>\n",
    "  </tbody>\n",
    "</table>\n",
    "\n"
   ],
   "metadata": {
    "collapsed": false
   }
  }
 ],
 "metadata": {
  "kernelspec": {
   "display_name": "Python 3",
   "language": "python",
   "name": "python3"
  },
  "language_info": {
   "codemirror_mode": {
    "name": "ipython",
    "version": 2
   },
   "file_extension": ".py",
   "mimetype": "text/x-python",
   "name": "python",
   "nbconvert_exporter": "python",
   "pygments_lexer": "ipython2",
   "version": "2.7.6"
  }
 },
 "nbformat": 4,
 "nbformat_minor": 0
}
