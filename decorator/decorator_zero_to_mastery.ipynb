{
 "cells": [
  {
   "cell_type": "markdown",
   "source": [
    "# Decorators & Metaclasses\n",
    "In this jupyter notebook, we will examine what decorators are, how they work, and how you can implement it yourself.\n",
    "## Description\n",
    "Decorators are a way to modify or extend the behavior of functions or methods without permanently modifying them. They are often used for logging, enforcing access control and permissions, instrumentation and timing, and caching.\n",
    "\n"
   ],
   "metadata": {
    "collapsed": false
   }
  },
  {
   "cell_type": "markdown",
   "source": [
    "# Decorator"
   ],
   "metadata": {
    "collapsed": false
   }
  },
  {
   "cell_type": "markdown",
   "source": [
    "## 1. Function Decorators\n",
    "A decorator is a function that takes another function and extends its behavior without explicitly modifying it.\n",
    "\n",
    "### Example\n",
    "As you can see below, we created a decorator named `@my_decorator`.\n",
    "\n",
    "### Note\n",
    "There are multiple available decorators which we'll cover in the upcoming chapters."
   ],
   "metadata": {
    "collapsed": false
   }
  },
  {
   "cell_type": "code",
   "execution_count": 1,
   "metadata": {
    "collapsed": true,
    "ExecuteTime": {
     "start_time": "2024-07-12T12:42:34.221529Z",
     "end_time": "2024-07-12T12:42:34.231034Z"
    }
   },
   "outputs": [
    {
     "name": "stdout",
     "output_type": "stream",
     "text": [
      "Something is happening before the function is called.\n",
      "Hello!\n",
      "Something is happening after the function is called.\n"
     ]
    }
   ],
   "source": [
    "def my_decorator(func):\n",
    "    def wrapper():\n",
    "        print(\"Something is happening before the function is called.\")\n",
    "        func()\n",
    "        print(\"Something is happening after the function is called.\")\n",
    "    return wrapper\n",
    "\n",
    "@my_decorator\n",
    "def say_hello():\n",
    "    print(\"Hello!\")\n",
    "\n",
    "say_hello()\n"
   ]
  },
  {
   "cell_type": "markdown",
   "source": [
    "## 2. Decorators with Arguments\n",
    "To create decorators that accept arguments, you need to define a decorator factory function that returns the actual decorator.\n",
    "\n"
   ],
   "metadata": {
    "collapsed": false
   }
  },
  {
   "cell_type": "code",
   "execution_count": 2,
   "outputs": [
    {
     "name": "stdout",
     "output_type": "stream",
     "text": [
      "Hello, Alice!\n",
      "Hello, Alice!\n",
      "Hello, Alice!\n"
     ]
    }
   ],
   "source": [
    "def repeat(num_times):\n",
    "    def decorator_repeat(func):\n",
    "        def wrapper(*args, **kwargs):\n",
    "            for _ in range(num_times):\n",
    "                func(*args, **kwargs)\n",
    "        return wrapper\n",
    "    return decorator_repeat\n",
    "\n",
    "@repeat(num_times=3)\n",
    "def say_hello(name):\n",
    "    print(f\"Hello, {name}!\")\n",
    "\n",
    "say_hello(\"Alice\")\n"
   ],
   "metadata": {
    "collapsed": false,
    "ExecuteTime": {
     "start_time": "2024-07-12T12:45:27.734369Z",
     "end_time": "2024-07-12T12:45:27.743164Z"
    }
   }
  },
  {
   "cell_type": "markdown",
   "source": [
    "## 3. Class Decorators\n",
    "Decorators can also be applied to classes."
   ],
   "metadata": {
    "collapsed": false
   }
  },
  {
   "cell_type": "code",
   "execution_count": 3,
   "outputs": [
    {
     "name": "stdout",
     "output_type": "stream",
     "text": [
      "This is the original method\n",
      "This is an extra method\n"
     ]
    }
   ],
   "source": [
    "def add_method(cls):\n",
    "    cls.extra_method = lambda self: \"This is an extra method\"\n",
    "    return cls\n",
    "\n",
    "@add_method\n",
    "class MyClass:\n",
    "    def original_method(self):\n",
    "        return \"This is the original method\"\n",
    "\n",
    "obj = MyClass()\n",
    "print(obj.original_method())  # Output: This is the original method\n",
    "print(obj.extra_method())     # Output: This is an extra method\n"
   ],
   "metadata": {
    "collapsed": false,
    "ExecuteTime": {
     "start_time": "2024-07-12T12:46:15.353308Z",
     "end_time": "2024-07-12T12:46:15.363855Z"
    }
   }
  },
  {
   "cell_type": "markdown",
   "source": [
    "## 4. Advanced Function Decorators"
   ],
   "metadata": {
    "collapsed": false
   }
  },
  {
   "cell_type": "markdown",
   "source": [
    "### 4.1. Decorating Functions with Arguments\n",
    "When decorating functions that take arguments, the inner wrapper function needs to accept `*args` and `**kwargs` to handle any number of positional and keyword arguments.\n",
    "\n"
   ],
   "metadata": {
    "collapsed": false
   }
  },
  {
   "cell_type": "code",
   "execution_count": 7,
   "outputs": [
    {
     "name": "stdout",
     "output_type": "stream",
     "text": [
      "Function compute took 2.0117 seconds\n",
      "15\n"
     ]
    }
   ],
   "source": [
    "import time\n",
    "\n",
    "def timer(func):\n",
    "    def wrapper(*args, **kwargs):\n",
    "        start_time = time.time()\n",
    "        result = func(*args, **kwargs)\n",
    "        end_time = time.time()\n",
    "        print(f\"Function {func.__name__} took {end_time - start_time:.4f} seconds\")\n",
    "        return result\n",
    "    return wrapper\n",
    "\n",
    "@timer\n",
    "def compute(x, y):\n",
    "    time.sleep(2)\n",
    "    return x + y\n",
    "\n",
    "print(compute(5, 10))\n"
   ],
   "metadata": {
    "collapsed": false,
    "ExecuteTime": {
     "start_time": "2024-07-12T12:53:10.117812Z",
     "end_time": "2024-07-12T12:53:12.150585Z"
    }
   }
  },
  {
   "cell_type": "markdown",
   "source": [
    "### 4.2. Chaining Decorators\n",
    "Multiple decorators can be applied to a single function. They are applied from the innermost to the outermost.\n",
    "\n"
   ],
   "metadata": {
    "collapsed": false
   }
  },
  {
   "cell_type": "code",
   "execution_count": 8,
   "outputs": [
    {
     "name": "stdout",
     "output_type": "stream",
     "text": [
      "**HELLO, ALICE**\n"
     ]
    }
   ],
   "source": [
    "def uppercase(func):\n",
    "    def wrapper(*args, **kwargs):\n",
    "        result = func(*args, **kwargs)\n",
    "        return result.upper()\n",
    "    return wrapper\n",
    "\n",
    "def bold(func):\n",
    "    def wrapper(*args, **kwargs):\n",
    "        result = func(*args, **kwargs)\n",
    "        return f\"**{result}**\"\n",
    "    return wrapper\n",
    "\n",
    "@bold\n",
    "@uppercase\n",
    "def greet(name):\n",
    "    return f\"Hello, {name}\"\n",
    "\n",
    "print(greet(\"Alice\"))\n"
   ],
   "metadata": {
    "collapsed": false,
    "ExecuteTime": {
     "start_time": "2024-07-12T12:53:51.561285Z",
     "end_time": "2024-07-12T12:53:51.574890Z"
    }
   }
  },
  {
   "cell_type": "markdown",
   "source": [
    "### 4.3. Decorators with Optional Arguments\n",
    "Decorators with optional arguments require an extra level of nesting to handle both cases: with and without arguments.\n",
    "\n"
   ],
   "metadata": {
    "collapsed": false
   }
  },
  {
   "cell_type": "code",
   "execution_count": 9,
   "outputs": [
    {
     "name": "stdout",
     "output_type": "stream",
     "text": [
      "LOG: add called with args=(2, 3) kwargs={}\n",
      "5\n",
      "DEBUG: multiply called with args=(2, 3) kwargs={}\n",
      "6\n"
     ]
    }
   ],
   "source": [
    "def log(prefix=\"LOG:\"):\n",
    "    def decorator(func):\n",
    "        def wrapper(*args, **kwargs):\n",
    "            print(f\"{prefix} {func.__name__} called with args={args} kwargs={kwargs}\")\n",
    "            return func(*args, **kwargs)\n",
    "        return wrapper\n",
    "    return decorator\n",
    "\n",
    "@log()\n",
    "def add(x, y):\n",
    "    return x + y\n",
    "\n",
    "@log(prefix=\"DEBUG:\")\n",
    "def multiply(x, y):\n",
    "    return x * y\n",
    "\n",
    "print(add(2, 3))\n",
    "print(multiply(2, 3))\n"
   ],
   "metadata": {
    "collapsed": false,
    "ExecuteTime": {
     "start_time": "2024-07-12T12:54:13.332026Z",
     "end_time": "2024-07-12T12:54:13.351990Z"
    }
   }
  },
  {
   "cell_type": "markdown",
   "source": [
    "### 4.4. Retry Logic\n",
    "Decorators can implement retry logic to automatically retry a function if it raises an exception.\n",
    "\n"
   ],
   "metadata": {
    "collapsed": false
   }
  },
  {
   "cell_type": "code",
   "execution_count": 10,
   "outputs": [
    {
     "name": "stdout",
     "output_type": "stream",
     "text": [
      "Operation succeeded\n"
     ]
    }
   ],
   "source": [
    "import time\n",
    "\n",
    "def retry(retries=3, delay=1):\n",
    "    def decorator(func):\n",
    "        def wrapper(*args, **kwargs):\n",
    "            last_exception = None\n",
    "            for _ in range(retries):\n",
    "                try:\n",
    "                    return func(*args, **kwargs)\n",
    "                except Exception as e:\n",
    "                    last_exception = e\n",
    "                    time.sleep(delay)\n",
    "            raise last_exception\n",
    "        return wrapper\n",
    "    return decorator\n",
    "\n",
    "@retry(retries=5, delay=2)\n",
    "def unstable_operation():\n",
    "    if time.time() % 2 < 1:\n",
    "        raise ValueError(\"Operation failed\")\n",
    "    return \"Operation succeeded\"\n",
    "\n",
    "print(unstable_operation())\n"
   ],
   "metadata": {
    "collapsed": false,
    "ExecuteTime": {
     "start_time": "2024-07-12T12:55:43.462662Z",
     "end_time": "2024-07-12T12:55:43.472717Z"
    }
   }
  },
  {
   "cell_type": "markdown",
   "source": [
    "## 5. Existing Decorators\n",
    "As I said in the [introduction](#note), there are many useful existing decorators in python in which you can simply use them. Here is a review on them:"
   ],
   "metadata": {
    "collapsed": false
   }
  },
  {
   "cell_type": "markdown",
   "source": [
    "### 5.1. @staticmethod and @classmethod\n",
    "These decorators are used to define static methods and class methods within a class.\n",
    "\n",
    "\n",
    "#### Example: @staticmethod"
   ],
   "metadata": {
    "collapsed": false
   }
  },
  {
   "cell_type": "code",
   "execution_count": 11,
   "outputs": [
    {
     "name": "stdout",
     "output_type": "stream",
     "text": [
      "This is a static method.\n"
     ]
    }
   ],
   "source": [
    "class MyClass:\n",
    "    @staticmethod\n",
    "    def static_method():\n",
    "        print(\"This is a static method.\")\n",
    "\n",
    "MyClass.static_method()  # Output: This is a static method.\n"
   ],
   "metadata": {
    "collapsed": false,
    "ExecuteTime": {
     "start_time": "2024-07-12T12:59:39.198703Z",
     "end_time": "2024-07-12T12:59:39.216175Z"
    }
   }
  },
  {
   "cell_type": "markdown",
   "source": [
    "#### Example: @classmethod"
   ],
   "metadata": {
    "collapsed": false
   }
  },
  {
   "cell_type": "code",
   "execution_count": 12,
   "outputs": [
    {
     "name": "stdout",
     "output_type": "stream",
     "text": [
      "Class variable is: Hello, World!\n"
     ]
    }
   ],
   "source": [
    "class MyClass:\n",
    "    class_variable = \"Hello, World!\"\n",
    "\n",
    "    @classmethod\n",
    "    def class_method(cls):\n",
    "        print(f\"Class variable is: {cls.class_variable}\")\n",
    "\n",
    "MyClass.class_method()  # Output: Class variable is: Hello, World!\n"
   ],
   "metadata": {
    "collapsed": false,
    "ExecuteTime": {
     "start_time": "2024-07-12T12:59:40.750769Z",
     "end_time": "2024-07-12T12:59:40.768481Z"
    }
   }
  },
  {
   "cell_type": "markdown",
   "source": [
    "### 5.2. @property\n",
    "The `@property` decorator is used to define getter, setter, and deleter methods for class attributes.\n",
    "\n"
   ],
   "metadata": {
    "collapsed": false
   }
  },
  {
   "cell_type": "code",
   "execution_count": 13,
   "outputs": [
    {
     "name": "stdout",
     "output_type": "stream",
     "text": [
      "10\n",
      "20\n"
     ]
    }
   ],
   "source": [
    "class MyClass:\n",
    "    def __init__(self, value):\n",
    "        self._value = value\n",
    "\n",
    "    @property\n",
    "    def value(self):\n",
    "        return self._value\n",
    "\n",
    "    @value.setter\n",
    "    def value(self, new_value):\n",
    "        if new_value >= 0:\n",
    "            self._value = new_value\n",
    "        else:\n",
    "            raise ValueError(\"Value must be non-negative\")\n",
    "\n",
    "obj = MyClass(10)\n",
    "print(obj.value)  # Output: 10\n",
    "obj.value = 20\n",
    "print(obj.value)  # Output: 20\n"
   ],
   "metadata": {
    "collapsed": false,
    "ExecuteTime": {
     "start_time": "2024-07-12T13:00:21.954738Z",
     "end_time": "2024-07-12T13:00:22.002005Z"
    }
   }
  },
  {
   "cell_type": "markdown",
   "source": [
    "### 5.3. @lru_cache (functools)\n",
    "The @lru_cache decorator caches the results of expensive function calls and returns the cached result when the same inputs occur again.\n",
    "\n"
   ],
   "metadata": {
    "collapsed": false
   }
  },
  {
   "cell_type": "code",
   "execution_count": 14,
   "outputs": [
    {
     "name": "stdout",
     "output_type": "stream",
     "text": [
      "Computing 4...\n",
      "16\n",
      "16\n"
     ]
    }
   ],
   "source": [
    "from functools import lru_cache\n",
    "\n",
    "@lru_cache(maxsize=100)\n",
    "def expensive_computation(n):\n",
    "    print(f\"Computing {n}...\")\n",
    "    return n * n\n",
    "\n",
    "print(expensive_computation(4))  # Output: Computing 4... 16\n",
    "print(expensive_computation(4))  # Output: 16 (cached result)\n"
   ],
   "metadata": {
    "collapsed": false,
    "ExecuteTime": {
     "start_time": "2024-07-12T13:01:28.849291Z",
     "end_time": "2024-07-12T13:01:28.862311Z"
    }
   }
  },
  {
   "cell_type": "markdown",
   "source": [
    "### 5.4. @dataclass (dataclasses)\n",
    "The @dataclass decorator automatically generates special methods like `__init__()`, `__repr__()`, and `__eq__()` for user-defined classes.\n",
    "\n"
   ],
   "metadata": {
    "collapsed": false
   }
  },
  {
   "cell_type": "code",
   "execution_count": 15,
   "outputs": [
    {
     "name": "stdout",
     "output_type": "stream",
     "text": [
      "Point(x=1, y=2)\n"
     ]
    }
   ],
   "source": [
    "from dataclasses import dataclass\n",
    "\n",
    "@dataclass\n",
    "class Point:\n",
    "    x: int\n",
    "    y: int\n",
    "\n",
    "point = Point(1, 2)\n",
    "print(point)  # Output: Point(x=1, y=2)\n"
   ],
   "metadata": {
    "collapsed": false,
    "ExecuteTime": {
     "start_time": "2024-07-12T13:03:01.600052Z",
     "end_time": "2024-07-12T13:03:01.618070Z"
    }
   }
  },
  {
   "cell_type": "markdown",
   "source": [
    "### 5.5. @contextmanager (contextlib)\n",
    "The `@contextmanager` decorator simplifies the creation of context managers.\n",
    "\n"
   ],
   "metadata": {
    "collapsed": false
   }
  },
  {
   "cell_type": "code",
   "execution_count": 16,
   "outputs": [
    {
     "name": "stdout",
     "output_type": "stream",
     "text": [
      "Acquiring resource: my_resource\n",
      "Using resource: my_resource\n",
      "Releasing resource: my_resource\n"
     ]
    }
   ],
   "source": [
    "from contextlib import contextmanager\n",
    "\n",
    "@contextmanager\n",
    "def managed_resource(name):\n",
    "    print(f\"Acquiring resource: {name}\")\n",
    "    yield name\n",
    "    print(f\"Releasing resource: {name}\")\n",
    "\n",
    "with managed_resource(\"my_resource\") as resource:\n",
    "    print(f\"Using resource: {resource}\")\n"
   ],
   "metadata": {
    "collapsed": false,
    "ExecuteTime": {
     "start_time": "2024-07-12T13:03:39.087380Z",
     "end_time": "2024-07-12T13:03:39.099140Z"
    }
   }
  },
  {
   "cell_type": "markdown",
   "source": [
    "### 5.6. @cached_property (functools, Python 3.8+)\n",
    "The `@cached_property` decorator converts a method with a single self argument into a property that is cached on the instance.\n",
    "\n"
   ],
   "metadata": {
    "collapsed": false
   }
  },
  {
   "cell_type": "code",
   "execution_count": 17,
   "outputs": [
    {
     "name": "stdout",
     "output_type": "stream",
     "text": [
      "Computing value...\n",
      "20\n",
      "20\n"
     ]
    }
   ],
   "source": [
    "from functools import cached_property\n",
    "\n",
    "class MyClass:\n",
    "    def __init__(self, value):\n",
    "        self._value = value\n",
    "\n",
    "    @cached_property\n",
    "    def computed_value(self):\n",
    "        print(\"Computing value...\")\n",
    "        return self._value * 2\n",
    "\n",
    "obj = MyClass(10)\n",
    "print(obj.computed_value)  # Output: Computing value... 20\n",
    "print(obj.computed_value)  # Output: 20 (cached result)\n"
   ],
   "metadata": {
    "collapsed": false,
    "ExecuteTime": {
     "start_time": "2024-07-12T13:04:35.654560Z",
     "end_time": "2024-07-12T13:04:35.666219Z"
    }
   }
  },
  {
   "cell_type": "markdown",
   "source": [
    "### 5.7. @dataclass with Field Customization\n",
    "You can customize the behavior of fields in a dataclass using the field function.\n",
    "\n"
   ],
   "metadata": {
    "collapsed": false
   }
  },
  {
   "cell_type": "code",
   "execution_count": 18,
   "outputs": [
    {
     "name": "stdout",
     "output_type": "stream",
     "text": [
      "InventoryItem(name='widget', price=5.0, quantity_on_hand=100)\n"
     ]
    }
   ],
   "source": [
    "from dataclasses import dataclass, field\n",
    "\n",
    "@dataclass\n",
    "class InventoryItem:\n",
    "    name: str\n",
    "    price: float = field(default=0.0)\n",
    "    quantity_on_hand: int = field(default=0, metadata={\"unit\": \"units\"})\n",
    "\n",
    "item = InventoryItem(name=\"widget\", price=5.0, quantity_on_hand=100)\n",
    "print(item)  # Output: InventoryItem(name='widget', price=5.0, quantity_on_hand=100)\n"
   ],
   "metadata": {
    "collapsed": false,
    "ExecuteTime": {
     "start_time": "2024-07-12T13:06:04.496891Z",
     "end_time": "2024-07-12T13:06:04.503404Z"
    }
   }
  },
  {
   "cell_type": "markdown",
   "source": [
    "### 5.8. @retry (Third-Party Library - retrying)\n",
    "The @retry decorator from the retrying library can retry a function if it raises an exception.\n",
    "\n",
    "\n",
    "For this decorator, you need to install third party via pip:\n",
    "```bash\n",
    "pip install retrying\n",
    "```"
   ],
   "metadata": {
    "collapsed": false
   }
  },
  {
   "cell_type": "code",
   "execution_count": 20,
   "outputs": [
    {
     "name": "stdout",
     "output_type": "stream",
     "text": [
      "Collecting retrying\n",
      "  Downloading retrying-1.3.4-py3-none-any.whl (11 kB)\n",
      "Requirement already satisfied: six>=1.7.0 in h:\\documents\\work\\python-zero-to-mastery\\venv\\lib\\site-packages (from retrying) (1.16.0)\n",
      "Installing collected packages: retrying\n",
      "Successfully installed retrying-1.3.4\n"
     ]
    },
    {
     "name": "stderr",
     "output_type": "stream",
     "text": [
      "\n",
      "[notice] A new release of pip available: 22.3.1 -> 24.1.2\n",
      "[notice] To update, run: python.exe -m pip install --upgrade pip\n"
     ]
    }
   ],
   "source": [
    "!pip install retrying"
   ],
   "metadata": {
    "collapsed": false,
    "ExecuteTime": {
     "start_time": "2024-07-12T13:08:19.816116Z",
     "end_time": "2024-07-12T13:08:25.100693Z"
    }
   }
  },
  {
   "cell_type": "code",
   "execution_count": 21,
   "outputs": [
    {
     "name": "stdout",
     "output_type": "stream",
     "text": [
      "Operation succeeded\n"
     ]
    }
   ],
   "source": [
    "from retrying import retry\n",
    "\n",
    "@retry(stop_max_attempt_number=3, wait_fixed=2000)\n",
    "def unstable_operation():\n",
    "    if time.time() % 2 < 1:\n",
    "        print(\"Operation failed, retrying...\")\n",
    "        raise ValueError(\"Failed\")\n",
    "    return \"Operation succeeded\"\n",
    "\n",
    "try:\n",
    "    print(unstable_operation())\n",
    "except Exception as e:\n",
    "    print(e)\n"
   ],
   "metadata": {
    "collapsed": false,
    "ExecuteTime": {
     "start_time": "2024-07-12T13:08:27.619640Z",
     "end_time": "2024-07-12T13:08:27.630899Z"
    }
   }
  },
  {
   "cell_type": "markdown",
   "source": [
    "# Metaclass\n",
    "Metaclasses are the 'classes of classes,' meaning they define how classes behave. A class is an instance of a metaclass. Metaclasses are powerful tools for creating APIs and frameworks, allowing developers to enforce specific class behaviors.\n",
    "\n"
   ],
   "metadata": {
    "collapsed": false
   }
  },
  {
   "cell_type": "markdown",
   "source": [
    "## 1. Basic: Creating a Metaclass\n",
    "By default, Python uses `type` as the metaclass. You can create your own metaclass by inheriting from `type`.\n",
    "\n",
    "\n"
   ],
   "metadata": {
    "collapsed": false
   }
  },
  {
   "cell_type": "code",
   "execution_count": 4,
   "outputs": [
    {
     "name": "stdout",
     "output_type": "stream",
     "text": [
      "Creating class MyClass\n",
      "10\n"
     ]
    }
   ],
   "source": [
    "class MyMeta(type):\n",
    "    def __new__(cls, name, bases, dct):\n",
    "        print(f\"Creating class {name}\")\n",
    "        return super().__new__(cls, name, bases, dct)\n",
    "\n",
    "class MyClass(metaclass=MyMeta):\n",
    "    def __init__(self, value):\n",
    "        self.value = value\n",
    "\n",
    "    def show(self):\n",
    "        print(self.value)\n",
    "\n",
    "obj = MyClass(10)\n",
    "obj.show()\n"
   ],
   "metadata": {
    "collapsed": false,
    "ExecuteTime": {
     "start_time": "2024-07-12T12:48:36.305179Z",
     "end_time": "2024-07-12T12:48:36.324337Z"
    }
   }
  },
  {
   "cell_type": "markdown",
   "source": [
    "## 2. Enforcing Class Behavior\n",
    "You can use metaclasses to enforce certain behaviors or constraints on classes.\n",
    "\n"
   ],
   "metadata": {
    "collapsed": false
   }
  },
  {
   "cell_type": "code",
   "execution_count": 5,
   "outputs": [
    {
     "name": "stdout",
     "output_type": "stream",
     "text": [
      "42\n"
     ]
    }
   ],
   "source": [
    "class AttributeNameEnforcerMeta(type):\n",
    "    def __new__(cls, name, bases, dct):\n",
    "        for attr_name in dct:\n",
    "            if not attr_name.startswith('_'):\n",
    "                raise ValueError(f\"Attribute name '{attr_name}' must start with an underscore.\")\n",
    "        return super().__new__(cls, name, bases, dct)\n",
    "\n",
    "class MyClass(metaclass=AttributeNameEnforcerMeta):\n",
    "    _value = 42\n",
    "\n",
    "    def _show(self):\n",
    "        print(self._value)\n",
    "\n",
    "# This will raise an error\n",
    "# class InvalidClass(metaclass=AttributeNameEnforcerMeta):\n",
    "#     value = 42\n",
    "\n",
    "obj = MyClass()\n",
    "obj._show()\n"
   ],
   "metadata": {
    "collapsed": false,
    "ExecuteTime": {
     "start_time": "2024-07-12T12:49:11.503723Z",
     "end_time": "2024-07-12T12:49:11.525122Z"
    }
   }
  },
  {
   "cell_type": "markdown",
   "source": [
    "## 3. Singleton Metaclass\n",
    "A common use of metaclasses is implementing the Singleton pattern, ensuring a class has only one instance.\n",
    "\n"
   ],
   "metadata": {
    "collapsed": false
   }
  },
  {
   "cell_type": "code",
   "execution_count": 6,
   "outputs": [
    {
     "name": "stdout",
     "output_type": "stream",
     "text": [
      "1\n",
      "1\n",
      "True\n"
     ]
    }
   ],
   "source": [
    "class SingletonMeta(type):\n",
    "    _instances = {}\n",
    "\n",
    "    def __call__(cls, *args, **kwargs):\n",
    "        if cls not in cls._instances:\n",
    "            instance = super().__call__(*args, **kwargs)\n",
    "            cls._instances[cls] = instance\n",
    "        return cls._instances[cls]\n",
    "\n",
    "class Singleton(metaclass=SingletonMeta):\n",
    "    def __init__(self, value):\n",
    "        self.value = value\n",
    "\n",
    "singleton1 = Singleton(1)\n",
    "singleton2 = Singleton(2)\n",
    "\n",
    "print(singleton1.value)  # Output: 1\n",
    "print(singleton2.value)  # Output: 1\n",
    "print(singleton1 is singleton2)  # Output: True\n"
   ],
   "metadata": {
    "collapsed": false,
    "ExecuteTime": {
     "start_time": "2024-07-12T12:49:31.552194Z",
     "end_time": "2024-07-12T12:49:31.559195Z"
    }
   }
  }
 ],
 "metadata": {
  "kernelspec": {
   "display_name": "Python 3",
   "language": "python",
   "name": "python3"
  },
  "language_info": {
   "codemirror_mode": {
    "name": "ipython",
    "version": 2
   },
   "file_extension": ".py",
   "mimetype": "text/x-python",
   "name": "python",
   "nbconvert_exporter": "python",
   "pygments_lexer": "ipython2",
   "version": "2.7.6"
  }
 },
 "nbformat": 4,
 "nbformat_minor": 0
}
