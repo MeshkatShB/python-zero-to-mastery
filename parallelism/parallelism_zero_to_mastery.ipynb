{
 "cells": [
  {
   "cell_type": "markdown",
   "source": [
    "# Parallelism & Concurrency\n",
    "In this notebook, we will examine how we can use parallelism in our advantage and run our codes faster.\n",
    "To better understand parallelism, I will cover the below topics:\n",
    "- Understanding Concurrency and Parallelism\n",
    "- Asyncio for Concurrency\n",
    "- Threading for Concurrency\n",
    "- Multiprocessing for Parallelism\n",
    "- Practical Examples"
   ],
   "metadata": {
    "collapsed": false
   }
  },
  {
   "cell_type": "markdown",
   "source": [
    "## 1. Understanding Concurrency and Parallelism\n",
    "At first, we should learn the difference between these terms: `concurrency` and `parallelism`:\n",
    "- `Concurrency`: Concurrency is about dealing with multiple tasks at once but not necessarily doing them simultaneously. It gives the `illusion of parallelism` by switching between tasks efficiently.\n",
    "\n",
    "- `Parallelism`: Parallelism is executing multiple tasks simultaneously, leveraging multicore processors to perform computation-heavy tasks in `parallel`.\n",
    "\n",
    "### Note\n",
    "We will use `Asyncio` for concurrency and `Threading` for parallelism:\n",
    "\n",
    "\n",
    "| ----- | ---- |\n",
    "| concurrency    | asyncio   |\n",
    "| parallelism  | threading/multiprocessing   |"
   ],
   "metadata": {
    "collapsed": false
   }
  },
  {
   "cell_type": "markdown",
   "source": [
    "## 2. Asyncio for Concurrency\n",
    "`Asyncio` is a library for asynchronous programming in Python, allowing you to write concurrent code using the `async/await` syntax. It may sound confusing but I will teach you in one go so you understand. Look at the file: `example.py`."
   ],
   "metadata": {
    "collapsed": false
   }
  },
  {
   "cell_type": "markdown",
   "source": [
    "### 2.1. Details\n",
    "There are only two words that matter: `async` and `await`.\n",
    "\n",
    "The `async` parameter shows that your function wants to use `concurrency`. So, you just put the `async` phrase before your definition of your function just like the top example. This `async` thing, shows that it should run in concurrent mode, so any running, should have something to gather data and results.\n",
    "\n",
    "Now for the result, the `await` comes into account. The `await` phrase, demonstrate that we should wait for the result of the answer/result of what is written after the await call:\n",
    "```python\n",
    "await asyncio.sleep(delay)\n",
    "```\n",
    "So, in this example, we should `await` for the answer of `asyncio.sleep(delay)`."
   ],
   "metadata": {
    "collapsed": false
   }
  },
  {
   "cell_type": "markdown",
   "source": [
    "### 2.2. Asyncio Queue\n",
    "As you may have guessed, when we have some tasks/jobs, we need a queue and a distributer to make the decision what should be run now and what is the next job/task. In order to do so, we use `asyncio.run()` function to state that we want these functions to be run.\n"
   ],
   "metadata": {
    "collapsed": false
   }
  },
  {
   "cell_type": "markdown",
   "source": [
    "### 2.3. asyncio.run()\n",
    "`asyncio.run()` is a high-level function used to run an asynchronous function (coroutine) from a synchronous context. It sets up the event loop, runs the coroutine, and handles shutting down the event loop when the coroutine completes.\n",
    "\n",
    "#### Example\n",
    "```python\n",
    "import asyncio\n",
    "\n",
    "async def main():\n",
    "    print(\"Hello, World!\")\n",
    "\n",
    "# Running the main coroutine\n",
    "asyncio.run(main())\n",
    "```"
   ],
   "metadata": {
    "collapsed": false
   }
  },
  {
   "cell_type": "markdown",
   "source": [
    "### 2.4. asyncio.gather()\n",
    "`asyncio.gather()` is used to run multiple coroutines concurrently and aggregate their results. It takes multiple coroutine objects and returns a single coroutine that gathers the results of those coroutines into a list.\n",
    "\n",
    "#### Example\n",
    "```python\n",
    "import asyncio\n",
    "\n",
    "async def say_after(delay, message):\n",
    "    await asyncio.sleep(delay)\n",
    "    return message\n",
    "\n",
    "async def main():\n",
    "    result = await asyncio.gather(\n",
    "        say_after(1, 'Hello'),\n",
    "        say_after(2, 'World')\n",
    "    )\n",
    "    print(result)  # Output: ['Hello', 'World']\n",
    "\n",
    "asyncio.run(main())\n",
    "```"
   ],
   "metadata": {
    "collapsed": false
   }
  },
  {
   "cell_type": "markdown",
   "source": [
    "### 2.5. asyncio.create_task()\n",
    "Schedules the execution of a coroutine object in the event loop. Returns an asyncio.Task object.\n",
    "\n",
    "#### Example\n",
    "```python\n",
    "import asyncio\n",
    "\n",
    "async def say_hello():\n",
    "    await asyncio.sleep(1)\n",
    "    print(\"Hello\")\n",
    "\n",
    "async def main():\n",
    "    task = asyncio.create_task(say_hello())\n",
    "    await task\n",
    "\n",
    "asyncio.run(main())\n",
    "```"
   ],
   "metadata": {
    "collapsed": false
   }
  },
  {
   "cell_type": "markdown",
   "source": [
    "### asyncio.sleep()\n",
    "Asynchronously sleeps for a specified number of seconds, allowing other tasks to run during this period.\n",
    "\n",
    "#### Example\n",
    "```python\n",
    "import asyncio\n",
    "\n",
    "async def main():\n",
    "    print(\"Sleeping...\")\n",
    "    await asyncio.sleep(2)\n",
    "    print(\"Awake!\")\n",
    "\n",
    "asyncio.run(main())\n",
    "```"
   ],
   "metadata": {
    "collapsed": false
   }
  },
  {
   "cell_type": "markdown",
   "source": [
    "### asyncio.wait()\n",
    "Waits for the completion of multiple `Future` or `Task` objects. Can be configured to return when any or all of the objects are done.\n",
    "\n",
    "\n",
    "#### Example\n",
    "```python\n",
    "import asyncio\n",
    "\n",
    "async def say_hello():\n",
    "    await asyncio.sleep(1)\n",
    "    return \"Hello\"\n",
    "\n",
    "async def say_world():\n",
    "    await asyncio.sleep(2)\n",
    "    return \"World\"\n",
    "\n",
    "async def main():\n",
    "    tasks = [say_hello(), say_world()]\n",
    "    done, pending = await asyncio.wait(tasks)\n",
    "    for task in done:\n",
    "        print(task.result())\n",
    "\n",
    "asyncio.run(main())\n",
    "```"
   ],
   "metadata": {
    "collapsed": false
   }
  },
  {
   "cell_type": "markdown",
   "source": [
    "### asyncio.as_completed()\n",
    "Returns an iterator of `Future` objects that yield results as they complete.\n",
    "\n",
    "#### Example\n",
    "```python\n",
    "import asyncio\n",
    "\n",
    "async def say_hello():\n",
    "    await asyncio.sleep(1)\n",
    "    return \"Hello\"\n",
    "\n",
    "async def say_world():\n",
    "    await asyncio.sleep(2)\n",
    "    return \"World\"\n",
    "\n",
    "async def main():\n",
    "    tasks = [say_hello(), say_world()]\n",
    "    for task in asyncio.as_completed(tasks):\n",
    "        result = await task\n",
    "        print(result)\n",
    "\n",
    "asyncio.run(main())\n",
    "```"
   ],
   "metadata": {
    "collapsed": false
   }
  },
  {
   "cell_type": "markdown",
   "source": [
    "### asyncio.shield()\n",
    "\n",
    "Protects a coroutine from being cancelled.\n",
    "\n",
    "#### Example\n",
    "```python\n",
    "import asyncio\n",
    "\n",
    "async def protected_task():\n",
    "    await asyncio.sleep(3)\n",
    "    return \"Completed\"\n",
    "\n",
    "async def main():\n",
    "    task = asyncio.create_task(asyncio.shield(protected_task()))\n",
    "    await asyncio.sleep(1)\n",
    "    task.cancel()\n",
    "    try:\n",
    "        await task\n",
    "    except asyncio.CancelledError:\n",
    "        print(\"Task was not cancelled\")\n",
    "\n",
    "asyncio.run(main())\n",
    "```"
   ],
   "metadata": {
    "collapsed": false
   }
  },
  {
   "cell_type": "markdown",
   "source": [
    "### asyncio.Event\n",
    "A synchronization primitive that allows one or more coroutines to wait until an event is set.\n",
    "\n",
    "#### Example\n",
    "```python\n",
    "import asyncio\n",
    "\n",
    "async def waiter(event):\n",
    "    print(\"Waiting for event to be set\")\n",
    "    await event.wait()\n",
    "    print(\"Event is set\")\n",
    "\n",
    "async def main():\n",
    "    event = asyncio.Event()\n",
    "    asyncio.create_task(waiter(event))\n",
    "    await asyncio.sleep(2)\n",
    "    event.set()\n",
    "\n",
    "asyncio.run(main())\n",
    "```"
   ],
   "metadata": {
    "collapsed": false
   }
  },
  {
   "cell_type": "markdown",
   "source": [
    "### asyncio.Queue\n",
    "An asynchronous `FIFO queue` used to exchange data between coroutines.\n",
    "\n",
    "#### Example\n",
    "```python\n",
    "import asyncio\n",
    "\n",
    "async def producer(queue):\n",
    "    for i in range(5):\n",
    "        await asyncio.sleep(1)\n",
    "        await queue.put(i)\n",
    "        print(f\"Produced {i}\")\n",
    "\n",
    "async def consumer(queue):\n",
    "    while True:\n",
    "        item = await queue.get()\n",
    "        print(f\"Consumed {item}\")\n",
    "        queue.task_done()\n",
    "\n",
    "async def main():\n",
    "    queue = asyncio.Queue()\n",
    "    await asyncio.gather(producer(queue), consumer(queue))\n",
    "\n",
    "asyncio.run(main())\n",
    "```"
   ],
   "metadata": {
    "collapsed": false
   }
  },
  {
   "cell_type": "code",
   "execution_count": null,
   "outputs": [],
   "source": [],
   "metadata": {
    "collapsed": false
   }
  }
 ],
 "metadata": {
  "kernelspec": {
   "display_name": "Python 3",
   "language": "python",
   "name": "python3"
  },
  "language_info": {
   "codemirror_mode": {
    "name": "ipython",
    "version": 2
   },
   "file_extension": ".py",
   "mimetype": "text/x-python",
   "name": "python",
   "nbconvert_exporter": "python",
   "pygments_lexer": "ipython2",
   "version": "2.7.6"
  }
 },
 "nbformat": 4,
 "nbformat_minor": 0
}
